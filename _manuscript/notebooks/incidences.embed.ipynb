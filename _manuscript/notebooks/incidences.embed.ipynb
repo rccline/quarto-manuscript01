{
 "cells": [
  {
   "cell_type": "markdown",
   "metadata": {},
   "source": [
    "# incidences\n",
    "\n",
    "## Quarto\n",
    "\n",
    "Quarto enables you to weave together content and executable code into a finished document. To learn more about Quarto see <https://quarto.org>.\n",
    "\n",
    "## Running Code\n",
    "\n",
    "When you click the **Render** button a document will be generated that includes both content and the output of embedded code. You can embed code like this:"
   ],
   "id": "c2e5146c-889d-4386-97bc-53ff385fbddb"
  },
  {
   "cell_type": "code",
   "execution_count": null,
   "metadata": {},
   "outputs": [
    {
     "output_type": "stream",
     "name": "stdout",
     "text": [
      "[1] 2"
     ]
    }
   ],
   "source": [
    "1 + 1"
   ],
   "id": "8639149c-477c-44bc-b94e-07f2aa034e03"
  },
  {
   "cell_type": "markdown",
   "metadata": {},
   "source": [
    "You can add options to executable code like this"
   ],
   "id": "bce56932-8fe8-4cc6-b113-452d63c8ca54"
  },
  {
   "cell_type": "code",
   "execution_count": null,
   "metadata": {},
   "outputs": [
    {
     "output_type": "stream",
     "name": "stdout",
     "text": [
      "[1] 4"
     ]
    }
   ],
   "source": [
    "#| echo: false\n",
    "2 * 2"
   ],
   "id": "f65c43af-f679-4fae-afe4-56f9a1c77e61"
  },
  {
   "cell_type": "code",
   "execution_count": null,
   "metadata": {},
   "outputs": [
    {
     "output_type": "stream",
     "name": "stderr",
     "text": [
      "Warning: package 'ggplot2' was built under R version 4.2.3"
     ]
    },
    {
     "output_type": "stream",
     "name": "stderr",
     "text": [
      "Warning: package 'tidyr' was built under R version 4.2.3"
     ]
    },
    {
     "output_type": "stream",
     "name": "stderr",
     "text": [
      "Warning: package 'readr' was built under R version 4.2.3"
     ]
    },
    {
     "output_type": "stream",
     "name": "stderr",
     "text": [
      "Warning: package 'purrr' was built under R version 4.2.3"
     ]
    },
    {
     "output_type": "stream",
     "name": "stderr",
     "text": [
      "Warning: package 'dplyr' was built under R version 4.2.3"
     ]
    },
    {
     "output_type": "stream",
     "name": "stderr",
     "text": [
      "Warning: package 'stringr' was built under R version 4.2.3"
     ]
    },
    {
     "output_type": "stream",
     "name": "stderr",
     "text": [
      "Warning: package 'lubridate' was built under R version 4.2.3"
     ]
    },
    {
     "output_type": "stream",
     "name": "stderr",
     "text": [
      "── Attaching core tidyverse packages ─────────────────── tidyverse 2.0.0.9000 ──\n",
      "✔ dplyr     1.1.4     ✔ readr     2.1.5\n",
      "✔ forcats   1.0.0     ✔ stringr   1.5.1\n",
      "✔ ggplot2   3.5.0     ✔ tibble    3.2.1\n",
      "✔ lubridate 1.9.3     ✔ tidyr     1.3.1\n",
      "✔ purrr     1.0.2     \n",
      "── Conflicts ────────────────────────────────────────── tidyverse_conflicts() ──\n",
      "✖ dplyr::filter() masks stats::filter()\n",
      "✖ dplyr::lag()    masks stats::lag()\n",
      "ℹ Use the conflicted package (<http://conflicted.r-lib.org/>) to force all conflicts to become errors"
     ]
    },
    {
     "output_type": "stream",
     "name": "stderr",
     "text": [
      "Warning: package 'medicaldata' was built under R version 4.2.3"
     ]
    },
    {
     "output_type": "stream",
     "name": "stderr",
     "text": [
      "Warning: package 'patchwork' was built under R version 4.2.3"
     ]
    }
   ],
   "source": [
    "#| label: load-pkgs\n",
    "library(tidyverse)"
   ],
   "id": "0b71363c-c36e-409a-b59a-7e107eb50c76"
  },
  {
   "cell_type": "code",
   "execution_count": null,
   "metadata": {},
   "outputs": [
    {
     "output_type": "display_data",
     "metadata": {},
     "data": {
      "image/png": "[encoded data removed]"
     }
    }
   ],
   "source": [
    "#| label: fig-incidences-adverse-events\n",
    "#| fig-cap: Incidence of the Primary and Secondary End Points and Adverse Events\n",
    "#| fig-width: 4\n",
    "#| fig-asp: 0.681\n",
    "\n",
    "# A - moderate to severe missing\n",
    "plot_a <- indo_rct |> \n",
    "  count(rx, outcome) |>\n",
    "  group_by(rx) |>\n",
    "  mutate(p = n / sum(n)) |>\n",
    "  filter(outcome == \"1_yes\") |>\n",
    "  ungroup() |>\n",
    "  mutate(\n",
    "    rx = case_match(\n",
    "      rx, \n",
    "      \"0_placebo\" ~ \"Placebo\",\n",
    "      \"1_indomethacin\" ~ \"Indomethacin\"\n",
    "    ),\n",
    "    rx = fct_relevel(rx, \"Placebo\", \"Indomethacin\"),\n",
    "    p = p*100\n",
    "  ) |>\n",
    "  ggplot(aes(x = rx, y = p, fill = rx)) +\n",
    "  geom_col(color = \"black\") +\n",
    "  scale_fill_manual(\n",
    "    values = c(\n",
    "      \"Placebo\" = \"azure2\", \n",
    "      \"Indomethacin\" =  \"deepskyblue4\"\n",
    "    )\n",
    "  ) + \n",
    "  theme_classic() +\n",
    "  theme(\n",
    "    legend.position = \"top\",\n",
    "    axis.text.x = element_blank(),\n",
    "    axis.ticks.x = element_blank()\n",
    "  ) +\n",
    "  ylim(0, 20) +\n",
    "  labs(\n",
    "    x = \"All Post-ERCP\\nPancreatitis\",\n",
    "    y = \"Patients (%)\",\n",
    "    fill = NULL\n",
    "  )\n",
    "\n",
    "# renal failure missing\n",
    "plot_b <- indo_rct |>\n",
    "  filter(bleed == 1) |>\n",
    "  mutate(\n",
    "    rx = case_match(\n",
    "      rx, \n",
    "      \"0_placebo\" ~ \"Placebo\",\n",
    "      \"1_indomethacin\" ~ \"Indomethacin\"\n",
    "      ),\n",
    "    rx = fct_relevel(rx, \"Placebo\", \"Indomethacin\")\n",
    "  ) |>\n",
    "  count(rx, bleed) |>\n",
    "  ggplot(aes(x = rx, y = n, fill = rx)) +\n",
    "  geom_col(color = \"black\") +\n",
    "  scale_fill_manual(\n",
    "    values = c(\n",
    "      \"Placebo\" = \"azure2\", \n",
    "      \"Indomethacin\" =  \"deepskyblue4\"\n",
    "    )\n",
    "  ) + \n",
    "  theme_classic() +\n",
    "  theme(\n",
    "    legend.position = \"top\",\n",
    "    axis.text.x = element_blank(),\n",
    "    axis.ticks.x = element_blank()\n",
    "  ) +\n",
    "  ylim(0, 8) +\n",
    "  labs(\n",
    "    x = \"Gastrointestinal\\nBleeding\",\n",
    "    y = \"No. of Adverse Events\",\n",
    "    fill = NULL\n",
    "  )\n",
    "\n",
    "plot_a + plot_b"
   ],
   "id": "cell-fig-incidences-adverse-events"
  }
 ],
 "nbformat": 4,
 "nbformat_minor": 5,
 "metadata": {}
}
